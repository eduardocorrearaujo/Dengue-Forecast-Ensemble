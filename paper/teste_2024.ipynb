{
 "cells": [
  {
   "cell_type": "code",
   "execution_count": 1,
   "id": "0e98796f-f902-4211-b629-797f656c2edf",
   "metadata": {},
   "outputs": [],
   "source": [
    "import sys\n",
    "import numpy as np\n",
    "import pandas as pd\n",
    "from utils import *"
   ]
  },
  {
   "cell_type": "code",
   "execution_count": 2,
   "id": "3b4001a8-c8cf-48e1-8579-09b297a0506c",
   "metadata": {},
   "outputs": [],
   "source": [
    "df_preds, models_by_state, data_all = load_preds()"
   ]
  },
  {
   "cell_type": "code",
   "execution_count": 3,
   "id": "fdeaf62b-ffdc-4561-a274-b7dadec9400b",
   "metadata": {},
   "outputs": [
    {
     "data": {
      "text/plain": [
       "array(['A', 'B', 'C', 'D', 'E', 'F', 'G', 'ln_base', 'ln_crps', 'ln_log',\n",
       "       'lin_crps', 'lin_log'], dtype=object)"
      ]
     },
     "execution_count": 3,
     "metadata": {},
     "output_type": "execute_result"
    }
   ],
   "source": [
    "df_preds.model_id.unique()"
   ]
  },
  {
   "cell_type": "code",
   "execution_count": 13,
   "id": "5b5e9fa8-b987-4977-a6ef-edddc72cf5d3",
   "metadata": {},
   "outputs": [
    {
     "data": {
      "text/plain": [
       "array([21, 22, 25, 27, 28, 30, 34])"
      ]
     },
     "execution_count": 13,
     "metadata": {},
     "output_type": "execute_result"
    }
   ],
   "source": [
    "df_preds_all.model_id.unique()"
   ]
  },
  {
   "cell_type": "code",
   "execution_count": 14,
   "id": "6c9c9d23-8e52-4c87-ad7a-f91fc6e838c0",
   "metadata": {},
   "outputs": [
    {
     "data": {
      "text/plain": [
       "[(21, 'RR'),\n",
       " (21, 'MG'),\n",
       " (25, 'MG'),\n",
       " (21, 'AL'),\n",
       " (25, 'CE'),\n",
       " (21, 'ES'),\n",
       " (21, 'RO')]"
      ]
     },
     "execution_count": 14,
     "metadata": {},
     "output_type": "execute_result"
    }
   ],
   "source": [
    "df_preds_problem = df_preds_all.loc[df_preds_all.pred <= 0.1]\n",
    "    \n",
    "excluded_models = list(set(zip(df_preds_problem.model_id, df_preds_problem.state)))\n",
    "\n",
    "excluded_models"
   ]
  },
  {
   "cell_type": "code",
   "execution_count": 2,
   "id": "8b2006f6-1615-4648-be57-f44e2fe88683",
   "metadata": {},
   "outputs": [
    {
     "data": {
      "text/html": [
       "<div>\n",
       "<style scoped>\n",
       "    .dataframe tbody tr th:only-of-type {\n",
       "        vertical-align: middle;\n",
       "    }\n",
       "\n",
       "    .dataframe tbody tr th {\n",
       "        vertical-align: top;\n",
       "    }\n",
       "\n",
       "    .dataframe thead th {\n",
       "        text-align: right;\n",
       "    }\n",
       "</style>\n",
       "<table border=\"1\" class=\"dataframe\">\n",
       "  <thead>\n",
       "    <tr style=\"text-align: right;\">\n",
       "      <th></th>\n",
       "      <th>date</th>\n",
       "      <th>pred</th>\n",
       "      <th>lower</th>\n",
       "      <th>upper</th>\n",
       "      <th>state</th>\n",
       "      <th>model_id</th>\n",
       "    </tr>\n",
       "  </thead>\n",
       "  <tbody>\n",
       "    <tr>\n",
       "      <th>0</th>\n",
       "      <td>2022-10-09</td>\n",
       "      <td>110.690113</td>\n",
       "      <td>64.291013</td>\n",
       "      <td>219.826948</td>\n",
       "      <td>AC</td>\n",
       "      <td>21</td>\n",
       "    </tr>\n",
       "    <tr>\n",
       "      <th>1</th>\n",
       "      <td>2022-10-16</td>\n",
       "      <td>144.952846</td>\n",
       "      <td>77.564037</td>\n",
       "      <td>279.722708</td>\n",
       "      <td>AC</td>\n",
       "      <td>21</td>\n",
       "    </tr>\n",
       "    <tr>\n",
       "      <th>2</th>\n",
       "      <td>2022-10-23</td>\n",
       "      <td>163.613937</td>\n",
       "      <td>92.915072</td>\n",
       "      <td>276.591399</td>\n",
       "      <td>AC</td>\n",
       "      <td>21</td>\n",
       "    </tr>\n",
       "    <tr>\n",
       "      <th>3</th>\n",
       "      <td>2022-10-30</td>\n",
       "      <td>170.240443</td>\n",
       "      <td>87.197631</td>\n",
       "      <td>378.407811</td>\n",
       "      <td>AC</td>\n",
       "      <td>21</td>\n",
       "    </tr>\n",
       "    <tr>\n",
       "      <th>4</th>\n",
       "      <td>2022-11-06</td>\n",
       "      <td>215.117888</td>\n",
       "      <td>111.835667</td>\n",
       "      <td>445.024983</td>\n",
       "      <td>AC</td>\n",
       "      <td>21</td>\n",
       "    </tr>\n",
       "  </tbody>\n",
       "</table>\n",
       "</div>"
      ],
      "text/plain": [
       "         date        pred       lower       upper state  model_id\n",
       "0  2022-10-09  110.690113   64.291013  219.826948    AC        21\n",
       "1  2022-10-16  144.952846   77.564037  279.722708    AC        21\n",
       "2  2022-10-23  163.613937   92.915072  276.591399    AC        21\n",
       "3  2022-10-30  170.240443   87.197631  378.407811    AC        21\n",
       "4  2022-11-06  215.117888  111.835667  445.024983    AC        21"
      ]
     },
     "execution_count": 2,
     "metadata": {},
     "output_type": "execute_result"
    }
   ],
   "source": [
    "df_preds_all.head()"
   ]
  },
  {
   "cell_type": "markdown",
   "id": "c20a7582-0d9e-4e39-8fb9-6b215d4a1961",
   "metadata": {},
   "source": [
    "### Applying the CRPS"
   ]
  },
  {
   "cell_type": "code",
   "execution_count": 3,
   "id": "66e8c63c-1da5-43c8-af92-4752ebd62df0",
   "metadata": {},
   "outputs": [
    {
     "name": "stdout",
     "output_type": "stream",
     "text": [
      "CPU times: user 4min 45s, sys: 1.28 s, total: 4min 47s\n",
      "Wall time: 5min 1s\n"
     ]
    }
   ],
   "source": [
    "%%time \n",
    "df_for_val_base = pd.DataFrame()\n",
    "\n",
    "df_24 = pd.DataFrame()\n",
    "\n",
    "df_25 = pd.DataFrame()\n",
    "\n",
    "df_w = pd.DataFrame()\n",
    "\n",
    "metric = 'crps'\n",
    "dist = 'log_normal'\n",
    "for state in states_BR: \n",
    "    \n",
    "    data_23, data_24, preds_23, preds_24, preds_25, models = format_data(state, models_by_state, data_all, df_preds_all)\n",
    "    \n",
    "    ens_24 = Ensemble(df= preds_24,\n",
    "            order_models = models,  dist = dist)\n",
    "\n",
    "    weights_24 = ens_24.compute_weights(df_obs=data_24, metric = metric)\n",
    "\n",
    "    df_24_out = ens_24.apply_ensemble(weights = weights_24['weights'])\n",
    "\n",
    "    df_24 = pd.concat([df_24, df_24_out], ignore_index = True)"
   ]
  },
  {
   "cell_type": "code",
   "execution_count": 6,
   "id": "845f3a90-65f0-49d4-8bf0-b2bbd2add8e8",
   "metadata": {},
   "outputs": [
    {
     "data": {
      "text/plain": [
       "'PR'"
      ]
     },
     "execution_count": 6,
     "metadata": {},
     "output_type": "execute_result"
    }
   ],
   "source": [
    "state"
   ]
  },
  {
   "cell_type": "code",
   "execution_count": 7,
   "id": "e43768a5-1ffb-4b69-a5e5-5b28c848a7f0",
   "metadata": {},
   "outputs": [
    {
     "data": {
      "text/html": [
       "<div>\n",
       "<style scoped>\n",
       "    .dataframe tbody tr th:only-of-type {\n",
       "        vertical-align: middle;\n",
       "    }\n",
       "\n",
       "    .dataframe tbody tr th {\n",
       "        vertical-align: top;\n",
       "    }\n",
       "\n",
       "    .dataframe thead th {\n",
       "        text-align: right;\n",
       "    }\n",
       "</style>\n",
       "<table border=\"1\" class=\"dataframe\">\n",
       "  <thead>\n",
       "    <tr style=\"text-align: right;\">\n",
       "      <th></th>\n",
       "      <th>pred</th>\n",
       "      <th>lower</th>\n",
       "      <th>upper</th>\n",
       "      <th>date</th>\n",
       "    </tr>\n",
       "  </thead>\n",
       "  <tbody>\n",
       "    <tr>\n",
       "      <th>0</th>\n",
       "      <td>1004.019798</td>\n",
       "      <td>569.720083</td>\n",
       "      <td>1769.387783</td>\n",
       "      <td>2023-10-08</td>\n",
       "    </tr>\n",
       "    <tr>\n",
       "      <th>1</th>\n",
       "      <td>1116.551167</td>\n",
       "      <td>650.027768</td>\n",
       "      <td>1917.897311</td>\n",
       "      <td>2023-10-15</td>\n",
       "    </tr>\n",
       "    <tr>\n",
       "      <th>2</th>\n",
       "      <td>1151.715265</td>\n",
       "      <td>676.906657</td>\n",
       "      <td>1959.573064</td>\n",
       "      <td>2023-10-22</td>\n",
       "    </tr>\n",
       "    <tr>\n",
       "      <th>3</th>\n",
       "      <td>1215.908779</td>\n",
       "      <td>721.248241</td>\n",
       "      <td>2049.827055</td>\n",
       "      <td>2023-10-29</td>\n",
       "    </tr>\n",
       "    <tr>\n",
       "      <th>4</th>\n",
       "      <td>1358.572768</td>\n",
       "      <td>826.657046</td>\n",
       "      <td>2232.751751</td>\n",
       "      <td>2023-11-05</td>\n",
       "    </tr>\n",
       "  </tbody>\n",
       "</table>\n",
       "</div>"
      ],
      "text/plain": [
       "          pred       lower        upper       date\n",
       "0  1004.019798  569.720083  1769.387783 2023-10-08\n",
       "1  1116.551167  650.027768  1917.897311 2023-10-15\n",
       "2  1151.715265  676.906657  1959.573064 2023-10-22\n",
       "3  1215.908779  721.248241  2049.827055 2023-10-29\n",
       "4  1358.572768  826.657046  2232.751751 2023-11-05"
      ]
     },
     "execution_count": 7,
     "metadata": {},
     "output_type": "execute_result"
    }
   ],
   "source": [
    "df_24_out.head()"
   ]
  },
  {
   "cell_type": "code",
   "execution_count": 11,
   "id": "e8350b29-0328-4161-857d-4d84d37b10b5",
   "metadata": {},
   "outputs": [
    {
     "data": {
      "text/html": [
       "<div>\n",
       "<style scoped>\n",
       "    .dataframe tbody tr th:only-of-type {\n",
       "        vertical-align: middle;\n",
       "    }\n",
       "\n",
       "    .dataframe tbody tr th {\n",
       "        vertical-align: top;\n",
       "    }\n",
       "\n",
       "    .dataframe thead th {\n",
       "        text-align: right;\n",
       "    }\n",
       "</style>\n",
       "<table border=\"1\" class=\"dataframe\">\n",
       "  <thead>\n",
       "    <tr style=\"text-align: right;\">\n",
       "      <th></th>\n",
       "      <th>date</th>\n",
       "      <th>pred</th>\n",
       "      <th>lower</th>\n",
       "      <th>upper</th>\n",
       "      <th>state</th>\n",
       "    </tr>\n",
       "  </thead>\n",
       "  <tbody>\n",
       "    <tr>\n",
       "      <th>910</th>\n",
       "      <td>2023-10-08</td>\n",
       "      <td>1004.019798</td>\n",
       "      <td>569.720083</td>\n",
       "      <td>1769.387783</td>\n",
       "      <td>PR</td>\n",
       "    </tr>\n",
       "    <tr>\n",
       "      <th>911</th>\n",
       "      <td>2023-10-15</td>\n",
       "      <td>1116.551167</td>\n",
       "      <td>650.027768</td>\n",
       "      <td>1917.897311</td>\n",
       "      <td>PR</td>\n",
       "    </tr>\n",
       "    <tr>\n",
       "      <th>912</th>\n",
       "      <td>2023-10-22</td>\n",
       "      <td>1151.715265</td>\n",
       "      <td>676.906657</td>\n",
       "      <td>1959.573064</td>\n",
       "      <td>PR</td>\n",
       "    </tr>\n",
       "    <tr>\n",
       "      <th>913</th>\n",
       "      <td>2023-10-29</td>\n",
       "      <td>1215.908779</td>\n",
       "      <td>721.248241</td>\n",
       "      <td>2049.827055</td>\n",
       "      <td>PR</td>\n",
       "    </tr>\n",
       "    <tr>\n",
       "      <th>914</th>\n",
       "      <td>2023-11-05</td>\n",
       "      <td>1358.572768</td>\n",
       "      <td>826.657046</td>\n",
       "      <td>2232.751751</td>\n",
       "      <td>PR</td>\n",
       "    </tr>\n",
       "  </tbody>\n",
       "</table>\n",
       "</div>"
      ],
      "text/plain": [
       "           date         pred       lower        upper state\n",
       "910  2023-10-08  1004.019798  569.720083  1769.387783    PR\n",
       "911  2023-10-15  1116.551167  650.027768  1917.897311    PR\n",
       "912  2023-10-22  1151.715265  676.906657  1959.573064    PR\n",
       "913  2023-10-29  1215.908779  721.248241  2049.827055    PR\n",
       "914  2023-11-05  1358.572768  826.657046  2232.751751    PR"
      ]
     },
     "execution_count": 11,
     "metadata": {},
     "output_type": "execute_result"
    }
   ],
   "source": [
    "df2 = pd.read_csv('../predictions/ensemble_out_sample_2024.csv.gz')\n",
    "df2 = df2.loc[df2.state == state]\n",
    "df2.head()"
   ]
  },
  {
   "cell_type": "code",
   "execution_count": null,
   "id": "30618fb0-f400-4f88-8772-8696bcb23502",
   "metadata": {},
   "outputs": [],
   "source": []
  }
 ],
 "metadata": {
  "kernelspec": {
   "display_name": "Python 3 (ipykernel)",
   "language": "python",
   "name": "python3"
  },
  "language_info": {
   "codemirror_mode": {
    "name": "ipython",
    "version": 3
   },
   "file_extension": ".py",
   "mimetype": "text/x-python",
   "name": "python",
   "nbconvert_exporter": "python",
   "pygments_lexer": "ipython3",
   "version": "3.12.4"
  }
 },
 "nbformat": 4,
 "nbformat_minor": 5
}
