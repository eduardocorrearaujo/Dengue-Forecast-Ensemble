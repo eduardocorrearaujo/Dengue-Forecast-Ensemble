{
 "cells": [
  {
   "cell_type": "code",
   "execution_count": 1,
   "id": "0e98796f-f902-4211-b629-797f656c2edf",
   "metadata": {},
   "outputs": [],
   "source": [
    "import sys\n",
    "import numpy as np\n",
    "import pandas as pd\n",
    "from utils import *\n",
    "sys.path.append('../')\n",
    "from bayes_ensemble.bayes_ensemble import *\n",
    "import warnings\n",
    "warnings.filterwarnings(\"ignore\")"
   ]
  },
  {
   "cell_type": "code",
   "execution_count": 2,
   "id": "8b2006f6-1615-4648-be57-f44e2fe88683",
   "metadata": {},
   "outputs": [
    {
     "data": {
      "text/html": [
       "<div>\n",
       "<style scoped>\n",
       "    .dataframe tbody tr th:only-of-type {\n",
       "        vertical-align: middle;\n",
       "    }\n",
       "\n",
       "    .dataframe tbody tr th {\n",
       "        vertical-align: top;\n",
       "    }\n",
       "\n",
       "    .dataframe thead th {\n",
       "        text-align: right;\n",
       "    }\n",
       "</style>\n",
       "<table border=\"1\" class=\"dataframe\">\n",
       "  <thead>\n",
       "    <tr style=\"text-align: right;\">\n",
       "      <th></th>\n",
       "      <th>date</th>\n",
       "      <th>pred</th>\n",
       "      <th>lower</th>\n",
       "      <th>upper</th>\n",
       "      <th>state</th>\n",
       "      <th>model_id</th>\n",
       "    </tr>\n",
       "  </thead>\n",
       "  <tbody>\n",
       "    <tr>\n",
       "      <th>0</th>\n",
       "      <td>2022-10-09</td>\n",
       "      <td>110.690113</td>\n",
       "      <td>64.291013</td>\n",
       "      <td>219.826948</td>\n",
       "      <td>AC</td>\n",
       "      <td>21</td>\n",
       "    </tr>\n",
       "    <tr>\n",
       "      <th>1</th>\n",
       "      <td>2022-10-16</td>\n",
       "      <td>144.952846</td>\n",
       "      <td>77.564037</td>\n",
       "      <td>279.722708</td>\n",
       "      <td>AC</td>\n",
       "      <td>21</td>\n",
       "    </tr>\n",
       "    <tr>\n",
       "      <th>2</th>\n",
       "      <td>2022-10-23</td>\n",
       "      <td>163.613937</td>\n",
       "      <td>92.915072</td>\n",
       "      <td>276.591399</td>\n",
       "      <td>AC</td>\n",
       "      <td>21</td>\n",
       "    </tr>\n",
       "    <tr>\n",
       "      <th>3</th>\n",
       "      <td>2022-10-30</td>\n",
       "      <td>170.240443</td>\n",
       "      <td>87.197631</td>\n",
       "      <td>378.407811</td>\n",
       "      <td>AC</td>\n",
       "      <td>21</td>\n",
       "    </tr>\n",
       "    <tr>\n",
       "      <th>4</th>\n",
       "      <td>2022-11-06</td>\n",
       "      <td>215.117888</td>\n",
       "      <td>111.835667</td>\n",
       "      <td>445.024983</td>\n",
       "      <td>AC</td>\n",
       "      <td>21</td>\n",
       "    </tr>\n",
       "  </tbody>\n",
       "</table>\n",
       "</div>"
      ],
      "text/plain": [
       "         date        pred       lower       upper state  model_id\n",
       "0  2022-10-09  110.690113   64.291013  219.826948    AC        21\n",
       "1  2022-10-16  144.952846   77.564037  279.722708    AC        21\n",
       "2  2022-10-23  163.613937   92.915072  276.591399    AC        21\n",
       "3  2022-10-30  170.240443   87.197631  378.407811    AC        21\n",
       "4  2022-11-06  215.117888  111.835667  445.024983    AC        21"
      ]
     },
     "execution_count": 2,
     "metadata": {},
     "output_type": "execute_result"
    }
   ],
   "source": [
    "df_preds_all.head()"
   ]
  },
  {
   "cell_type": "markdown",
   "id": "c20a7582-0d9e-4e39-8fb9-6b215d4a1961",
   "metadata": {},
   "source": [
    "### Applying the base model"
   ]
  },
  {
   "cell_type": "code",
   "execution_count": 3,
   "id": "66e8c63c-1da5-43c8-af92-4752ebd62df0",
   "metadata": {},
   "outputs": [
    {
     "name": "stdout",
     "output_type": "stream",
     "text": [
      "CPU times: user 14min 13s, sys: 3.48 s, total: 14min 16s\n",
      "Wall time: 14min 44s\n"
     ]
    }
   ],
   "source": [
    "%%time \n",
    "df_for_val_base = pd.DataFrame()\n",
    "\n",
    "df_23_24 = pd.DataFrame()\n",
    "\n",
    "df_25 = pd.DataFrame()\n",
    "\n",
    "df_w = pd.DataFrame()\n",
    "\n",
    "dist = 'log_normal'\n",
    "for state in states_BR: \n",
    "    \n",
    "    data_23, data_24, preds_23, preds_24, preds_25, models = format_data(state, models_by_state, data_all, df_preds_all)\n",
    "\n",
    "    K = len(models)\n",
    "    weights = np.full(K, 1/(K))\n",
    "    \n",
    "    ens_23 = Ensemble(df= preds_23,\n",
    "            order_models = models, dist = dist)\n",
    "    \n",
    "    df_23_in = ens_23.apply_ensemble(weights = weights)\n",
    "\n",
    "    ens_24 = Ensemble(df= preds_24,\n",
    "            order_models = models,  dist = dist)\n",
    "\n",
    "    df_24_out = ens_24.apply_ensemble(weights = weights)\n",
    "\n",
    "    df_23_24_ = pd.concat([df_23_in, df_24_out], ignore_index = True)\n",
    "\n",
    "    df_23_24_['state'] = state\n",
    " \n",
    "    df_23_24 = pd.concat([df_23_24, df_23_24_], ignore_index = True)\n",
    "    "
   ]
  },
  {
   "cell_type": "code",
   "execution_count": 4,
   "id": "e43768a5-1ffb-4b69-a5e5-5b28c848a7f0",
   "metadata": {},
   "outputs": [],
   "source": [
    "df_23_24.to_csv(f'../predictions/ensemble_2023_2024_base_{dist}.csv', index = False)\n",
    "#df_25.to_csv(f'../predictions/ensemble_2025_base_{dist}.csv', index = False)"
   ]
  }
 ],
 "metadata": {
  "kernelspec": {
   "display_name": "Python 3 (ipykernel)",
   "language": "python",
   "name": "python3"
  },
  "language_info": {
   "codemirror_mode": {
    "name": "ipython",
    "version": 3
   },
   "file_extension": ".py",
   "mimetype": "text/x-python",
   "name": "python",
   "nbconvert_exporter": "python",
   "pygments_lexer": "ipython3",
   "version": "3.12.4"
  }
 },
 "nbformat": 4,
 "nbformat_minor": 5
}
