{
 "cells": [
  {
   "cell_type": "code",
   "execution_count": 2,
   "id": "48f836c3-6226-4951-adcd-ea4a4e4b6ddd",
   "metadata": {},
   "outputs": [],
   "source": [
    "import sys\n",
    "import numpy as np\n",
    "import pandas as pd\n",
    "sys.path.append('../')\n",
    "from utils import *\n",
    "from bayes_ensemble.bayes_ensemble import *\n",
    "import warnings\n",
    "warnings.filterwarnings(\"ignore\")"
   ]
  },
  {
   "cell_type": "code",
   "execution_count": 12,
   "id": "5fe75c64-c3b4-49c8-a032-44998efd8d99",
   "metadata": {},
   "outputs": [
    {
     "data": {
      "text/html": [
       "<div>\n",
       "<style scoped>\n",
       "    .dataframe tbody tr th:only-of-type {\n",
       "        vertical-align: middle;\n",
       "    }\n",
       "\n",
       "    .dataframe tbody tr th {\n",
       "        vertical-align: top;\n",
       "    }\n",
       "\n",
       "    .dataframe thead th {\n",
       "        text-align: right;\n",
       "    }\n",
       "</style>\n",
       "<table border=\"1\" class=\"dataframe\">\n",
       "  <thead>\n",
       "    <tr style=\"text-align: right;\">\n",
       "      <th></th>\n",
       "      <th>date</th>\n",
       "      <th>pred</th>\n",
       "      <th>lower</th>\n",
       "      <th>upper</th>\n",
       "      <th>state</th>\n",
       "      <th>model_id</th>\n",
       "    </tr>\n",
       "  </thead>\n",
       "  <tbody>\n",
       "    <tr>\n",
       "      <th>0</th>\n",
       "      <td>2022-10-09</td>\n",
       "      <td>110.690113</td>\n",
       "      <td>64.291013</td>\n",
       "      <td>219.826948</td>\n",
       "      <td>AC</td>\n",
       "      <td>21</td>\n",
       "    </tr>\n",
       "    <tr>\n",
       "      <th>2800</th>\n",
       "      <td>2025-08-10</td>\n",
       "      <td>192.641953</td>\n",
       "      <td>142.814506</td>\n",
       "      <td>261.828157</td>\n",
       "      <td>PR</td>\n",
       "      <td>21</td>\n",
       "    </tr>\n",
       "    <tr>\n",
       "      <th>2801</th>\n",
       "      <td>2025-08-17</td>\n",
       "      <td>171.137457</td>\n",
       "      <td>119.943438</td>\n",
       "      <td>233.918928</td>\n",
       "      <td>PR</td>\n",
       "      <td>21</td>\n",
       "    </tr>\n",
       "    <tr>\n",
       "      <th>2802</th>\n",
       "      <td>2025-08-24</td>\n",
       "      <td>196.875395</td>\n",
       "      <td>132.696765</td>\n",
       "      <td>267.461459</td>\n",
       "      <td>PR</td>\n",
       "      <td>21</td>\n",
       "    </tr>\n",
       "    <tr>\n",
       "      <th>2803</th>\n",
       "      <td>2025-08-31</td>\n",
       "      <td>179.610112</td>\n",
       "      <td>136.303073</td>\n",
       "      <td>247.230651</td>\n",
       "      <td>PR</td>\n",
       "      <td>21</td>\n",
       "    </tr>\n",
       "  </tbody>\n",
       "</table>\n",
       "</div>"
      ],
      "text/plain": [
       "           date        pred       lower       upper state model_id\n",
       "0    2022-10-09  110.690113   64.291013  219.826948    AC       21\n",
       "2800 2025-08-10  192.641953  142.814506  261.828157    PR       21\n",
       "2801 2025-08-17  171.137457  119.943438  233.918928    PR       21\n",
       "2802 2025-08-24  196.875395  132.696765  267.461459    PR       21\n",
       "2803 2025-08-31  179.610112  136.303073  247.230651    PR       21"
      ]
     },
     "execution_count": 12,
     "metadata": {},
     "output_type": "execute_result"
    }
   ],
   "source": [
    "df_preds_all, models_by_state, data_all = load_preds(rename = False)\n",
    "\n",
    "df_preds_all = df_preds_all.loc[df_preds_all.model_id.isin(['21', '22', '25', '26', '27', '28', '30', '34'] )]\n",
    "\n",
    "df_preds_all.head()"
   ]
  },
  {
   "cell_type": "code",
   "execution_count": 13,
   "id": "bf1fd276-67a0-47a4-b430-db0c50d712cd",
   "metadata": {},
   "outputs": [],
   "source": [
    "state = 'SP'"
   ]
  },
  {
   "cell_type": "code",
   "execution_count": 14,
   "id": "637d6937-290f-4919-9b96-8dcd1d9159fa",
   "metadata": {},
   "outputs": [
    {
     "data": {
      "text/html": [
       "<div>\n",
       "<style scoped>\n",
       "    .dataframe tbody tr th:only-of-type {\n",
       "        vertical-align: middle;\n",
       "    }\n",
       "\n",
       "    .dataframe tbody tr th {\n",
       "        vertical-align: top;\n",
       "    }\n",
       "\n",
       "    .dataframe thead th {\n",
       "        text-align: right;\n",
       "    }\n",
       "</style>\n",
       "<table border=\"1\" class=\"dataframe\">\n",
       "  <thead>\n",
       "    <tr style=\"text-align: right;\">\n",
       "      <th></th>\n",
       "      <th>pred</th>\n",
       "      <th>lower</th>\n",
       "      <th>upper</th>\n",
       "      <th>date</th>\n",
       "    </tr>\n",
       "  </thead>\n",
       "  <tbody>\n",
       "    <tr>\n",
       "      <th>0</th>\n",
       "      <td>7097.934860</td>\n",
       "      <td>2356.416746</td>\n",
       "      <td>24803.457014</td>\n",
       "      <td>2024-05-26</td>\n",
       "    </tr>\n",
       "    <tr>\n",
       "      <th>1</th>\n",
       "      <td>4812.710632</td>\n",
       "      <td>1701.813354</td>\n",
       "      <td>15623.882776</td>\n",
       "      <td>2024-06-02</td>\n",
       "    </tr>\n",
       "    <tr>\n",
       "      <th>2</th>\n",
       "      <td>9799.289895</td>\n",
       "      <td>3126.530315</td>\n",
       "      <td>32968.854448</td>\n",
       "      <td>2024-05-19</td>\n",
       "    </tr>\n",
       "    <tr>\n",
       "      <th>3</th>\n",
       "      <td>14744.219437</td>\n",
       "      <td>4176.310992</td>\n",
       "      <td>43650.152486</td>\n",
       "      <td>2024-05-12</td>\n",
       "    </tr>\n",
       "    <tr>\n",
       "      <th>4</th>\n",
       "      <td>19207.505289</td>\n",
       "      <td>5951.918691</td>\n",
       "      <td>57916.058858</td>\n",
       "      <td>2024-04-28</td>\n",
       "    </tr>\n",
       "  </tbody>\n",
       "</table>\n",
       "</div>"
      ],
      "text/plain": [
       "           pred        lower         upper       date\n",
       "0   7097.934860  2356.416746  24803.457014 2024-05-26\n",
       "1   4812.710632  1701.813354  15623.882776 2024-06-02\n",
       "2   9799.289895  3126.530315  32968.854448 2024-05-19\n",
       "3  14744.219437  4176.310992  43650.152486 2024-05-12\n",
       "4  19207.505289  5951.918691  57916.058858 2024-04-28"
      ]
     },
     "execution_count": 14,
     "metadata": {},
     "output_type": "execute_result"
    }
   ],
   "source": [
    "data_23, data_24, preds_23, preds_24, preds_25, models = format_data(state, models_by_state, data_all, df_preds_all)\n",
    "\n",
    "K = len(models)\n",
    "weights = np.full(K, 1/(K))\n",
    "\n",
    "ens_24 = Ensemble_linear(df= preds_24,\n",
    "            order_models = models)\n",
    "\n",
    "df_24_out = ens_24.apply_ensemble(weights = weights)\n",
    "\n",
    "df_24_out.head()"
   ]
  },
  {
   "cell_type": "markdown",
   "id": "c9695c63-0d47-4341-8c18-2e5505ce8ac8",
   "metadata": {},
   "source": [
    "df_24_out.to_csv('teste_SP_base_2024.csv.gz')"
   ]
  },
  {
   "cell_type": "code",
   "execution_count": 27,
   "id": "a5019025-3f40-4985-a7a9-04d44c215d6d",
   "metadata": {},
   "outputs": [],
   "source": [
    "def compute_ppf(mu, sigma, weights):\n",
    "    \"\"\"\n",
    "    Compute the Percent-Point Function (PPF), which is the inverse of the CDF, \n",
    "    for a mixture of lognormal distributions.\n",
    "\n",
    "    The function takes the parameters of a lognormal mixture (mean, standard deviation, and weights) \n",
    "    and returns the mixture values for the 5th, 50th, and 95th percentiles.\n",
    "\n",
    "    Parameters:\n",
    "        mu (array-like): Mean values (in log-space) for the lognormal components of the mixture.\n",
    "        sigma (array-like): Standard deviation values (in log-space) for the lognormal components of the mixture.\n",
    "        weights (array-like): Weights of each component in the lognormal mixture. These should sum to 1.\n",
    "\n",
    "    Returns:\n",
    "        np.ndarray: The x-values corresponding to the 5th, 50th, and 95th percentiles. \n",
    "    \"\"\"\n",
    "    # Step 1: Generate a range of x-values for the integration\n",
    "    x = np.linspace(1e-6, 10**5, 10**5)\n",
    "    \n",
    "    # Step 2: Compute PDF values for the mixture of lognormal distributions\n",
    "    pdf_values = dlnorm_mix(x, mu, sigma, weights, log=False)\n",
    "\n",
    "    # Step 3: Normalize the PDF using the trapezoidal rule\n",
    "    dx = np.diff(x)  # Compute spacing between consecutive x-values\n",
    "    dx = np.append(dx, dx[-1])  # Ensure length matches the x array\n",
    "    area = np.sum(pdf_values * dx)  # Approximate the area under the PDF\n",
    "    pdf_values_normalized = pdf_values / area  # Normalize the PDF to ensure total area is 1\n",
    "\n",
    "    # Step 4: Compute the CDF by integrating the normalized PDF using the trapezoidal rule\n",
    "    cdf_values = cumulative_trapezoid(pdf_values_normalized, x, initial=0)\n",
    "\n",
    "    # Step 5: Invert the CDF to obtain the PPF\n",
    "    ppf_function = interp1d(cdf_values, x, bounds_error=False, fill_value=\"extrapolate\")\n",
    "    \n",
    "    # Example: Given probabilities, find the corresponding x values\n",
    "    p = [0.5, 0.05, 0.95]  # Example probabilities (e.g., 5th, 50th, and 95th percentiles)\n",
    "    x_for_p = ppf_function(p)  # Get x-values corresponding to the probabilities\n",
    "\n",
    "    return x_for_p\n",
    "\n",
    "def compute_ppf2(mu, sigma, weights):\n",
    "    \"\"\"\n",
    "    Compute the Percent-Point Function (PPF), which is the inverse of the CDF, \n",
    "    for a mixture of lognormal distributions.\n",
    "\n",
    "    The function takes the parameters of a lognormal mixture (mean, standard deviation, and weights) \n",
    "    and returns the mixture values for the 5th, 50th, and 95th percentiles.\n",
    "\n",
    "    Parameters:\n",
    "        mu (array-like): Mean values (in log-space) for the lognormal components of the mixture.\n",
    "        sigma (array-like): Standard deviation values (in log-space) for the lognormal components of the mixture.\n",
    "        weights (array-like): Weights of each component in the lognormal mixture. These should sum to 1.\n",
    "\n",
    "    Returns:\n",
    "        np.ndarray: The x-values corresponding to the 5th, 50th, and 95th percentiles. \n",
    "    \"\"\"\n",
    "    # Step 1: Generate a range of x-values for the integration\n",
    "    x = np.linspace(1e-6, 10**5, 10**5)\n",
    "    \n",
    "    # Step 2: Compute PDF values for the mixture of lognormal distributions\n",
    "    pdf_values = dlnorm_mix(x, mu, sigma, weights, log=False)\n",
    "\n",
    "    mu, sigma = lognorm.fit(pdf_values)\n",
    "\n",
    "    p = [0.5, 0.05, 0.95]  \n",
    "    x_for_p = lognorm.ppf(p, loc=mu,  scale=sigma)\n",
    "\n",
    "    return x_for_p\n",
    "    "
   ]
  },
  {
   "cell_type": "code",
   "execution_count": 28,
   "id": "91260e58-b7b1-4041-aa5c-9db5b7406de8",
   "metadata": {},
   "outputs": [
    {
     "data": {
      "text/plain": [
       "array([2.18668288e+02, 1.00008167e-01, 9.47487971e+09])"
      ]
     },
     "execution_count": 28,
     "metadata": {},
     "output_type": "execute_result"
    }
   ],
   "source": [
    "compute_ppf([5,5], [10,10], [0.5, 0.5])"
   ]
  },
  {
   "cell_type": "code",
   "execution_count": 29,
   "id": "c71cc489-55f1-4bcd-8266-1ee36b86eb2f",
   "metadata": {},
   "outputs": [
    {
     "ename": "ValueError",
     "evalue": "too many values to unpack (expected 2)",
     "output_type": "error",
     "traceback": [
      "\u001b[0;31m---------------------------------------------------------------------------\u001b[0m",
      "\u001b[0;31mValueError\u001b[0m                                Traceback (most recent call last)",
      "Cell \u001b[0;32mIn[29], line 1\u001b[0m\n\u001b[0;32m----> 1\u001b[0m \u001b[43mcompute_ppf2\u001b[49m\u001b[43m(\u001b[49m\u001b[43m[\u001b[49m\u001b[38;5;241;43m5\u001b[39;49m\u001b[43m,\u001b[49m\u001b[38;5;241;43m5\u001b[39;49m\u001b[43m]\u001b[49m\u001b[43m,\u001b[49m\u001b[43m \u001b[49m\u001b[43m[\u001b[49m\u001b[38;5;241;43m10\u001b[39;49m\u001b[43m,\u001b[49m\u001b[38;5;241;43m10\u001b[39;49m\u001b[43m]\u001b[49m\u001b[43m,\u001b[49m\u001b[43m \u001b[49m\u001b[43m[\u001b[49m\u001b[38;5;241;43m0.5\u001b[39;49m\u001b[43m,\u001b[49m\u001b[43m \u001b[49m\u001b[38;5;241;43m0.5\u001b[39;49m\u001b[43m]\u001b[49m\u001b[43m)\u001b[49m\n",
      "Cell \u001b[0;32mIn[27], line 63\u001b[0m, in \u001b[0;36mcompute_ppf2\u001b[0;34m(mu, sigma, weights)\u001b[0m\n\u001b[1;32m     60\u001b[0m \u001b[38;5;66;03m# Step 2: Compute PDF values for the mixture of lognormal distributions\u001b[39;00m\n\u001b[1;32m     61\u001b[0m pdf_values \u001b[38;5;241m=\u001b[39m dlnorm_mix(x, mu, sigma, weights, log\u001b[38;5;241m=\u001b[39m\u001b[38;5;28;01mFalse\u001b[39;00m)\n\u001b[0;32m---> 63\u001b[0m mu, sigma \u001b[38;5;241m=\u001b[39m lognorm\u001b[38;5;241m.\u001b[39mfit(pdf_values)\n\u001b[1;32m     65\u001b[0m p \u001b[38;5;241m=\u001b[39m [\u001b[38;5;241m0.5\u001b[39m, \u001b[38;5;241m0.05\u001b[39m, \u001b[38;5;241m0.95\u001b[39m]  \n\u001b[1;32m     66\u001b[0m x_for_p \u001b[38;5;241m=\u001b[39m lognorm\u001b[38;5;241m.\u001b[39mppf(p, loc\u001b[38;5;241m=\u001b[39mmu,  scale\u001b[38;5;241m=\u001b[39msigma)\n",
      "\u001b[0;31mValueError\u001b[0m: too many values to unpack (expected 2)"
     ]
    }
   ],
   "source": [
    "compute_ppf2([5,5], [10,10], [0.5, 0.5])"
   ]
  },
  {
   "cell_type": "code",
   "execution_count": null,
   "id": "ab172c55-21bf-4405-88ff-cc3ba7f2707b",
   "metadata": {},
   "outputs": [],
   "source": []
  }
 ],
 "metadata": {
  "kernelspec": {
   "display_name": "Python 3 (ipykernel)",
   "language": "python",
   "name": "python3"
  },
  "language_info": {
   "codemirror_mode": {
    "name": "ipython",
    "version": 3
   },
   "file_extension": ".py",
   "mimetype": "text/x-python",
   "name": "python",
   "nbconvert_exporter": "python",
   "pygments_lexer": "ipython3",
   "version": "3.12.4"
  }
 },
 "nbformat": 4,
 "nbformat_minor": 5
}
