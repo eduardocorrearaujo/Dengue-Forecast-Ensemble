{
 "cells": [
  {
   "cell_type": "code",
   "execution_count": 1,
   "id": "f5cca511-5ec0-47d0-9954-e803160389f4",
   "metadata": {},
   "outputs": [],
   "source": [
    "import numpy as np\n",
    "import pandas as pd\n",
    "from epiweeks import Week\n",
    "import scipy.stats as stats\n",
    "from bayes_ensemble import get_df_log_pars\n",
    "from scoringrules import crps_lognormal, crps_normal"
   ]
  },
  {
   "cell_type": "code",
   "execution_count": 2,
   "id": "8a5c3ca9-aee0-45da-9e33-4bd58d08ebce",
   "metadata": {},
   "outputs": [],
   "source": [
    "import sys\n",
    "sys.path.append('../')\n",
    "from utils import *"
   ]
  },
  {
   "cell_type": "code",
   "execution_count": 3,
   "id": "a12eadeb-a191-4eea-8ff1-ae60b5a30369",
   "metadata": {},
   "outputs": [
    {
     "data": {
      "text/html": [
       "<div>\n",
       "<style scoped>\n",
       "    .dataframe tbody tr th:only-of-type {\n",
       "        vertical-align: middle;\n",
       "    }\n",
       "\n",
       "    .dataframe tbody tr th {\n",
       "        vertical-align: top;\n",
       "    }\n",
       "\n",
       "    .dataframe thead th {\n",
       "        text-align: right;\n",
       "    }\n",
       "</style>\n",
       "<table border=\"1\" class=\"dataframe\">\n",
       "  <thead>\n",
       "    <tr style=\"text-align: right;\">\n",
       "      <th></th>\n",
       "      <th>date</th>\n",
       "      <th>pred</th>\n",
       "      <th>lower</th>\n",
       "      <th>upper</th>\n",
       "      <th>state</th>\n",
       "      <th>model_id</th>\n",
       "    </tr>\n",
       "  </thead>\n",
       "  <tbody>\n",
       "    <tr>\n",
       "      <th>0</th>\n",
       "      <td>2022-10-09</td>\n",
       "      <td>110.690113</td>\n",
       "      <td>64.291013</td>\n",
       "      <td>219.826948</td>\n",
       "      <td>AC</td>\n",
       "      <td>21</td>\n",
       "    </tr>\n",
       "    <tr>\n",
       "      <th>2800</th>\n",
       "      <td>2025-08-10</td>\n",
       "      <td>192.641953</td>\n",
       "      <td>142.814506</td>\n",
       "      <td>261.828157</td>\n",
       "      <td>PR</td>\n",
       "      <td>21</td>\n",
       "    </tr>\n",
       "    <tr>\n",
       "      <th>2801</th>\n",
       "      <td>2025-08-17</td>\n",
       "      <td>171.137457</td>\n",
       "      <td>119.943438</td>\n",
       "      <td>233.918928</td>\n",
       "      <td>PR</td>\n",
       "      <td>21</td>\n",
       "    </tr>\n",
       "    <tr>\n",
       "      <th>2802</th>\n",
       "      <td>2025-08-24</td>\n",
       "      <td>196.875395</td>\n",
       "      <td>132.696765</td>\n",
       "      <td>267.461459</td>\n",
       "      <td>PR</td>\n",
       "      <td>21</td>\n",
       "    </tr>\n",
       "    <tr>\n",
       "      <th>2803</th>\n",
       "      <td>2025-08-31</td>\n",
       "      <td>179.610112</td>\n",
       "      <td>136.303073</td>\n",
       "      <td>247.230651</td>\n",
       "      <td>PR</td>\n",
       "      <td>21</td>\n",
       "    </tr>\n",
       "  </tbody>\n",
       "</table>\n",
       "</div>"
      ],
      "text/plain": [
       "           date        pred       lower       upper state  model_id\n",
       "0    2022-10-09  110.690113   64.291013  219.826948    AC        21\n",
       "2800 2025-08-10  192.641953  142.814506  261.828157    PR        21\n",
       "2801 2025-08-17  171.137457  119.943438  233.918928    PR        21\n",
       "2802 2025-08-24  196.875395  132.696765  267.461459    PR        21\n",
       "2803 2025-08-31  179.610112  136.303073  247.230651    PR        21"
      ]
     },
     "execution_count": 3,
     "metadata": {},
     "output_type": "execute_result"
    }
   ],
   "source": [
    "df_preds_all, models_by_state, data_all = load_preds(rename = False)\n",
    "\n",
    "df_preds_all = df_preds_all.loc[df_preds_all.model_id.isin(['21', '22', '25', '26', '27', '28', '30', '34'] )]\n",
    "\n",
    "df_preds_all['model_id'] = df_preds_all['model_id'].astype(int)\n",
    "\n",
    "df_preds_all.head()"
   ]
  },
  {
   "cell_type": "code",
   "execution_count": 15,
   "id": "8d54abc2-9672-448f-8883-63c565cc6165",
   "metadata": {},
   "outputs": [
    {
     "name": "stderr",
     "output_type": "stream",
     "text": [
      "/Users/eduardoaraujo/Documents/Github/Dengue-Forecast-Ensemble/bayes_ensemble/../utils.py:43: SettingWithCopyWarning: \n",
      "A value is trying to be set on a copy of a slice from a DataFrame.\n",
      "Try using .loc[row_indexer,col_indexer] = value instead\n",
      "\n",
      "See the caveats in the documentation: https://pandas.pydata.org/pandas-docs/stable/user_guide/indexing.html#returning-a-view-versus-a-copy\n",
      "  preds.date = pd.to_datetime(preds.date)\n"
     ]
    },
    {
     "data": {
      "text/html": [
       "<div>\n",
       "<style scoped>\n",
       "    .dataframe tbody tr th:only-of-type {\n",
       "        vertical-align: middle;\n",
       "    }\n",
       "\n",
       "    .dataframe tbody tr th {\n",
       "        vertical-align: top;\n",
       "    }\n",
       "\n",
       "    .dataframe thead th {\n",
       "        text-align: right;\n",
       "    }\n",
       "</style>\n",
       "<table border=\"1\" class=\"dataframe\">\n",
       "  <thead>\n",
       "    <tr style=\"text-align: right;\">\n",
       "      <th></th>\n",
       "      <th>date</th>\n",
       "      <th>pred</th>\n",
       "      <th>lower</th>\n",
       "      <th>upper</th>\n",
       "      <th>state</th>\n",
       "      <th>model_id</th>\n",
       "    </tr>\n",
       "  </thead>\n",
       "  <tbody>\n",
       "    <tr>\n",
       "      <th>36</th>\n",
       "      <td>2022-10-09</td>\n",
       "      <td>719.0</td>\n",
       "      <td>297.95</td>\n",
       "      <td>4253.65</td>\n",
       "      <td>MG</td>\n",
       "      <td>30</td>\n",
       "    </tr>\n",
       "    <tr>\n",
       "      <th>37</th>\n",
       "      <td>2022-10-16</td>\n",
       "      <td>774.5</td>\n",
       "      <td>325.85</td>\n",
       "      <td>4272.15</td>\n",
       "      <td>MG</td>\n",
       "      <td>30</td>\n",
       "    </tr>\n",
       "    <tr>\n",
       "      <th>38</th>\n",
       "      <td>2022-10-23</td>\n",
       "      <td>841.0</td>\n",
       "      <td>343.90</td>\n",
       "      <td>4784.25</td>\n",
       "      <td>MG</td>\n",
       "      <td>30</td>\n",
       "    </tr>\n",
       "    <tr>\n",
       "      <th>39</th>\n",
       "      <td>2022-10-30</td>\n",
       "      <td>883.0</td>\n",
       "      <td>360.95</td>\n",
       "      <td>5052.80</td>\n",
       "      <td>MG</td>\n",
       "      <td>30</td>\n",
       "    </tr>\n",
       "    <tr>\n",
       "      <th>40</th>\n",
       "      <td>2022-11-06</td>\n",
       "      <td>968.0</td>\n",
       "      <td>396.00</td>\n",
       "      <td>5489.85</td>\n",
       "      <td>MG</td>\n",
       "      <td>30</td>\n",
       "    </tr>\n",
       "  </tbody>\n",
       "</table>\n",
       "</div>"
      ],
      "text/plain": [
       "         date   pred   lower    upper state  model_id\n",
       "36 2022-10-09  719.0  297.95  4253.65    MG        30\n",
       "37 2022-10-16  774.5  325.85  4272.15    MG        30\n",
       "38 2022-10-23  841.0  343.90  4784.25    MG        30\n",
       "39 2022-10-30  883.0  360.95  5052.80    MG        30\n",
       "40 2022-11-06  968.0  396.00  5489.85    MG        30"
      ]
     },
     "execution_count": 15,
     "metadata": {},
     "output_type": "execute_result"
    }
   ],
   "source": [
    "state = 'MG'\n",
    "data_23, data_24, preds_23, preds_24, preds_25, models = format_data(state, models_by_state, data_all, df_preds_all)\n",
    "preds_23 = preds_23.loc[preds_23.model_id == 30].reset_index(drop = True)\n",
    "data_23 = data_23.sort_values(by = 'date')\n",
    "preds_23 = preds_23.sort_values(by = 'date')\n",
    "preds_23.head()"
   ]
  },
  {
   "cell_type": "markdown",
   "id": "c39395b9-774c-4cb9-9864-5df748fe3fd5",
   "metadata": {},
   "source": [
    "### Scores - normal - mosqlient package: "
   ]
  },
  {
   "cell_type": "code",
   "execution_count": 16,
   "id": "865b605d-d62f-4ea0-ba65-6f1973f1bb61",
   "metadata": {},
   "outputs": [],
   "source": [
    "confidence_level = 0.9 \n",
    "z_value = stats.norm.ppf((1 + confidence_level) / 2)"
   ]
  },
  {
   "cell_type": "code",
   "execution_count": 17,
   "id": "7e82ccab-3660-4393-86f5-e1f66603e3dd",
   "metadata": {},
   "outputs": [],
   "source": [
    "score_norm = crps_normal(data_23.casos, preds_23.pred, (preds_23.upper - preds_23.lower) / (2 * z_value))"
   ]
  },
  {
   "cell_type": "markdown",
   "id": "dcf58daa-84df-466f-ad2c-f3a0e52c2036",
   "metadata": {},
   "source": [
    "### Scores - lognormal: "
   ]
  },
  {
   "cell_type": "code",
   "execution_count": 23,
   "id": "a64bf0f1-2876-4216-84c8-475d218623a4",
   "metadata": {},
   "outputs": [
    {
     "data": {
      "text/html": [
       "<div>\n",
       "<style scoped>\n",
       "    .dataframe tbody tr th:only-of-type {\n",
       "        vertical-align: middle;\n",
       "    }\n",
       "\n",
       "    .dataframe tbody tr th {\n",
       "        vertical-align: top;\n",
       "    }\n",
       "\n",
       "    .dataframe thead th {\n",
       "        text-align: right;\n",
       "    }\n",
       "</style>\n",
       "<table border=\"1\" class=\"dataframe\">\n",
       "  <thead>\n",
       "    <tr style=\"text-align: right;\">\n",
       "      <th></th>\n",
       "      <th>date</th>\n",
       "      <th>pred</th>\n",
       "      <th>lower</th>\n",
       "      <th>upper</th>\n",
       "      <th>mu</th>\n",
       "      <th>sigma</th>\n",
       "      <th>fit_med</th>\n",
       "      <th>fit_lwr</th>\n",
       "      <th>fit_upr</th>\n",
       "    </tr>\n",
       "  </thead>\n",
       "  <tbody>\n",
       "    <tr>\n",
       "      <th>0</th>\n",
       "      <td>2022-10-09</td>\n",
       "      <td>719.0</td>\n",
       "      <td>297.95</td>\n",
       "      <td>4253.65</td>\n",
       "      <td>6.577862</td>\n",
       "      <td>1.080748</td>\n",
       "      <td>719.000116</td>\n",
       "      <td>121.533495</td>\n",
       "      <td>4253.651773</td>\n",
       "    </tr>\n",
       "    <tr>\n",
       "      <th>1</th>\n",
       "      <td>2022-10-16</td>\n",
       "      <td>774.5</td>\n",
       "      <td>325.85</td>\n",
       "      <td>4272.15</td>\n",
       "      <td>6.652218</td>\n",
       "      <td>1.038181</td>\n",
       "      <td>774.499940</td>\n",
       "      <td>140.409359</td>\n",
       "      <td>4272.152219</td>\n",
       "    </tr>\n",
       "    <tr>\n",
       "      <th>2</th>\n",
       "      <td>2022-10-23</td>\n",
       "      <td>841.0</td>\n",
       "      <td>343.90</td>\n",
       "      <td>4784.25</td>\n",
       "      <td>6.734592</td>\n",
       "      <td>1.056929</td>\n",
       "      <td>840.999963</td>\n",
       "      <td>147.835234</td>\n",
       "      <td>4784.251481</td>\n",
       "    </tr>\n",
       "    <tr>\n",
       "      <th>3</th>\n",
       "      <td>2022-10-30</td>\n",
       "      <td>883.0</td>\n",
       "      <td>360.95</td>\n",
       "      <td>5052.80</td>\n",
       "      <td>6.783325</td>\n",
       "      <td>1.060504</td>\n",
       "      <td>882.999734</td>\n",
       "      <td>154.308186</td>\n",
       "      <td>5052.800851</td>\n",
       "    </tr>\n",
       "    <tr>\n",
       "      <th>4</th>\n",
       "      <td>2022-11-06</td>\n",
       "      <td>968.0</td>\n",
       "      <td>396.00</td>\n",
       "      <td>5489.85</td>\n",
       "      <td>6.875232</td>\n",
       "      <td>1.055063</td>\n",
       "      <td>967.999553</td>\n",
       "      <td>170.682811</td>\n",
       "      <td>5489.850619</td>\n",
       "    </tr>\n",
       "  </tbody>\n",
       "</table>\n",
       "</div>"
      ],
      "text/plain": [
       "        date   pred   lower    upper        mu     sigma     fit_med  \\\n",
       "0 2022-10-09  719.0  297.95  4253.65  6.577862  1.080748  719.000116   \n",
       "1 2022-10-16  774.5  325.85  4272.15  6.652218  1.038181  774.499940   \n",
       "2 2022-10-23  841.0  343.90  4784.25  6.734592  1.056929  840.999963   \n",
       "3 2022-10-30  883.0  360.95  5052.80  6.783325  1.060504  882.999734   \n",
       "4 2022-11-06  968.0  396.00  5489.85  6.875232  1.055063  967.999553   \n",
       "\n",
       "      fit_lwr      fit_upr  \n",
       "0  121.533495  4253.651773  \n",
       "1  140.409359  4272.152219  \n",
       "2  147.835234  4784.251481  \n",
       "3  154.308186  5052.800851  \n",
       "4  170.682811  5489.850619  "
      ]
     },
     "execution_count": 23,
     "metadata": {},
     "output_type": "execute_result"
    }
   ],
   "source": [
    "pred_log = get_df_log_pars(preds_23[['date', 'pred', 'lower', 'upper']].reset_index(drop= True), fn_loss = 'median')\n",
    "\n",
    "pred_log.head()"
   ]
  },
  {
   "cell_type": "markdown",
   "id": "f893dd40-c0fe-4fb2-be26-e5fe2d25e748",
   "metadata": {},
   "source": [
    "pred_log = get_df_log_pars(preds_23[['date', 'pred', 'lower', 'upper']].reset_index(drop= True), fn_loss = 'lower')\n",
    "\n",
    "pred_log.head()"
   ]
  },
  {
   "cell_type": "code",
   "execution_count": 24,
   "id": "8a80d504-e7d2-46cf-99c5-d569f5f80980",
   "metadata": {},
   "outputs": [],
   "source": [
    "score_log = crps_lognormal(data_23.casos.values, pred_log.mu, pred_log.sigma)"
   ]
  },
  {
   "cell_type": "code",
   "execution_count": 25,
   "id": "bd5b9322-174f-47b0-996f-7b7d6ee3610e",
   "metadata": {},
   "outputs": [
    {
     "data": {
      "image/png": "[encoded data removed]",
      "text/plain": [
       "<Figure size 640x480 with 1 Axes>"
      ]
     },
     "metadata": {},
     "output_type": "display_data"
    }
   ],
   "source": [
    "fig,ax = plt.subplots()\n",
    "\n",
    "ax.plot(score_norm, label = 'CRPS - norm')\n",
    "ax.plot(score_log, label = 'CRPS - lognorm')\n",
    "\n",
    "ax.grid()\n",
    "ax.legend()\n",
    "ax.set_title('Comp scores')\n",
    "plt.show()"
   ]
  },
  {
   "cell_type": "code",
   "execution_count": 26,
   "id": "c5fcba86-db35-46b1-96ca-ed7deaf4835d",
   "metadata": {},
   "outputs": [
    {
     "data": {
      "text/plain": [
       "3596.9487957471665"
      ]
     },
     "execution_count": 26,
     "metadata": {},
     "output_type": "execute_result"
    }
   ],
   "source": [
    "np.mean(score_norm)"
   ]
  },
  {
   "cell_type": "code",
   "execution_count": 27,
   "id": "053e7760-f6d6-4c79-a098-96e665b8f8f0",
   "metadata": {},
   "outputs": [
    {
     "data": {
      "text/plain": [
       "3264.6887011753374"
      ]
     },
     "execution_count": 27,
     "metadata": {},
     "output_type": "execute_result"
    }
   ],
   "source": [
    "np.mean(score_log)"
   ]
  },
  {
   "cell_type": "code",
   "execution_count": null,
   "id": "47817d2f-eaf3-42fa-bef5-008bea1820fe",
   "metadata": {},
   "outputs": [],
   "source": []
  },
  {
   "cell_type": "code",
   "execution_count": null,
   "id": "f3db2cde-833e-49a4-aaf6-11b4f9083dd2",
   "metadata": {},
   "outputs": [],
   "source": []
  }
 ],
 "metadata": {
  "kernelspec": {
   "display_name": "Python 3 (ipykernel)",
   "language": "python",
   "name": "python3"
  },
  "language_info": {
   "codemirror_mode": {
    "name": "ipython",
    "version": 3
   },
   "file_extension": ".py",
   "mimetype": "text/x-python",
   "name": "python",
   "nbconvert_exporter": "python",
   "pygments_lexer": "ipython3",
   "version": "3.12.4"
  }
 },
 "nbformat": 4,
 "nbformat_minor": 5
}
