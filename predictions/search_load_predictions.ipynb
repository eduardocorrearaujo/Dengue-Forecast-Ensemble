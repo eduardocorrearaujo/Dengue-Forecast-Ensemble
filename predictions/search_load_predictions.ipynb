{
 "cells": [
  {
   "cell_type": "markdown",
   "id": "10aae811-56ef-4a45-a271-a06bcb79e2d8",
   "metadata": {},
   "source": [
    "### In this notebook, the predictions from the platform are downloaded, saved, and organized to be used by the ensemble algorithms proposed \n"
   ]
  },
  {
   "cell_type": "code",
   "execution_count": 1,
   "id": "dfee5308-eed4-4a61-b502-9f8cbcf1fcc0",
   "metadata": {},
   "outputs": [],
   "source": [
    "import numpy as np\n",
    "import pandas as pd\n",
    "from epiweeks import Week\n",
    "import matplotlib.pyplot as plt\n",
    "from matplotlib.lines import Line2D\n",
    "from mosqlient import get_predictions, get_prediction_by_id\n",
    "\n",
    "import seaborn as sns\n",
    "import dataframe_image as dfi\n",
    "from itertools import product\n",
    "import matplotlib.dates as mdates\n",
    "\n",
    "plt.rcParams.update({'font.size': 14})\n",
    "\n",
    "import warnings\n",
    "warnings.simplefilter(action='ignore', category=FutureWarning)"
   ]
  },
  {
   "cell_type": "markdown",
   "id": "5aeee3be-f834-49c0-b53d-d41fc420c31d",
   "metadata": {},
   "source": [
    "### Get the predictions"
   ]
  },
  {
   "cell_type": "code",
   "execution_count": 2,
   "id": "62e4d05f-1206-484f-93dc-5bece15e19da",
   "metadata": {},
   "outputs": [],
   "source": [
    "def get_preds(model_id, predict_date = None):\n",
    "    '''\n",
    "    Function to fetch the predictions by model id\n",
    "    '''\n",
    "\n",
    "    if predict_date is not None: \n",
    "        list_of_preds = get_predictions(model_id = model_id, predict_date = predict_date)\n",
    "    \n",
    "    else: \n",
    "        list_of_preds = get_predictions(model_id = model_id)\n",
    "    \n",
    "    return list_of_preds "
   ]
  },
  {
   "cell_type": "markdown",
   "id": "453791ed-7fca-4b38-8193-46c048efc8e2",
   "metadata": {},
   "source": [
    "The function below get the predictions and extract important informations as state, predict_date, and predict_range. This informations are used to deduplicated the predictions if necessary.  "
   ]
  },
  {
   "cell_type": "code",
   "execution_count": 3,
   "id": "93e69789-b700-4684-8abe-ece8c21e503e",
   "metadata": {},
   "outputs": [
    {
     "name": "stdout",
     "output_type": "stream",
     "text": [
      "21\n",
      "22\n",
      "25\n",
      "26\n",
      "27\n",
      "28\n",
      "30\n",
      "34\n",
      "CPU times: user 1 s, sys: 60.1 ms, total: 1.06 s\n",
      "Wall time: 29.3 s\n"
     ]
    }
   ],
   "source": [
    "%%time \n",
    "preds_det = np.empty((0, 7))\n",
    "\n",
    "for model_id in [21,22,25, 26, 27,28,30,34]:\n",
    "\n",
    "    print(model_id)\n",
    "    list_of_preds = get_preds(model_id)\n",
    "    \n",
    "    for idx in np.arange(0, len(list_of_preds)): \n",
    "\n",
    "        df = list_of_preds[idx].to_dataframe()\n",
    "\n",
    "        preds_det_ = np.array([[model_id, df.adm_1[0], \n",
    "                              f'{list_of_preds[idx].id}',df.date.min()[:4], list_of_preds[idx].predict_date, \n",
    "                              df.date.min(), df.date.max()]])\n",
    "\n",
    "        preds_det = np.concatenate((preds_det, preds_det_), axis=0)\n",
    "        "
   ]
  },
  {
   "cell_type": "code",
   "execution_count": 4,
   "id": "7931a76d-6515-4d05-8d97-e0fbd0f28d43",
   "metadata": {},
   "outputs": [
    {
     "data": {
      "text/html": [
       "<div>\n",
       "<style scoped>\n",
       "    .dataframe tbody tr th:only-of-type {\n",
       "        vertical-align: middle;\n",
       "    }\n",
       "\n",
       "    .dataframe tbody tr th {\n",
       "        vertical-align: top;\n",
       "    }\n",
       "\n",
       "    .dataframe thead th {\n",
       "        text-align: right;\n",
       "    }\n",
       "</style>\n",
       "<table border=\"1\" class=\"dataframe\">\n",
       "  <thead>\n",
       "    <tr style=\"text-align: right;\">\n",
       "      <th></th>\n",
       "      <th>model_id</th>\n",
       "      <th>state</th>\n",
       "      <th>pred_id</th>\n",
       "      <th>year</th>\n",
       "      <th>predict_date</th>\n",
       "      <th>min_date</th>\n",
       "      <th>max_date</th>\n",
       "    </tr>\n",
       "  </thead>\n",
       "  <tbody>\n",
       "    <tr>\n",
       "      <th>0</th>\n",
       "      <td>21</td>\n",
       "      <td>RJ</td>\n",
       "      <td>828</td>\n",
       "      <td>2024</td>\n",
       "      <td>2024-09-12</td>\n",
       "      <td>2024-10-06</td>\n",
       "      <td>2025-09-28</td>\n",
       "    </tr>\n",
       "    <tr>\n",
       "      <th>1</th>\n",
       "      <td>21</td>\n",
       "      <td>MT</td>\n",
       "      <td>827</td>\n",
       "      <td>2024</td>\n",
       "      <td>2024-09-12</td>\n",
       "      <td>2024-10-06</td>\n",
       "      <td>2025-09-28</td>\n",
       "    </tr>\n",
       "    <tr>\n",
       "      <th>2</th>\n",
       "      <td>21</td>\n",
       "      <td>MS</td>\n",
       "      <td>826</td>\n",
       "      <td>2024</td>\n",
       "      <td>2024-09-12</td>\n",
       "      <td>2024-10-06</td>\n",
       "      <td>2025-09-28</td>\n",
       "    </tr>\n",
       "    <tr>\n",
       "      <th>3</th>\n",
       "      <td>21</td>\n",
       "      <td>MT</td>\n",
       "      <td>825</td>\n",
       "      <td>2023</td>\n",
       "      <td>2024-09-12</td>\n",
       "      <td>2023-10-08</td>\n",
       "      <td>2024-09-29</td>\n",
       "    </tr>\n",
       "    <tr>\n",
       "      <th>4</th>\n",
       "      <td>21</td>\n",
       "      <td>MS</td>\n",
       "      <td>824</td>\n",
       "      <td>2023</td>\n",
       "      <td>2024-09-12</td>\n",
       "      <td>2023-10-08</td>\n",
       "      <td>2024-09-29</td>\n",
       "    </tr>\n",
       "  </tbody>\n",
       "</table>\n",
       "</div>"
      ],
      "text/plain": [
       "  model_id state pred_id  year predict_date    min_date    max_date\n",
       "0       21    RJ     828  2024   2024-09-12  2024-10-06  2025-09-28\n",
       "1       21    MT     827  2024   2024-09-12  2024-10-06  2025-09-28\n",
       "2       21    MS     826  2024   2024-09-12  2024-10-06  2025-09-28\n",
       "3       21    MT     825  2023   2024-09-12  2023-10-08  2024-09-29\n",
       "4       21    MS     824  2023   2024-09-12  2023-10-08  2024-09-29"
      ]
     },
     "execution_count": 4,
     "metadata": {},
     "output_type": "execute_result"
    }
   ],
   "source": [
    "df_desc = pd.DataFrame(preds_det, columns = ['model_id', 'state', 'pred_id', 'year',\n",
    "                                  'predict_date', 'min_date', 'max_date'])\n",
    "\n",
    "df_desc.head()"
   ]
  },
  {
   "cell_type": "markdown",
   "id": "e2a3a9ef-0930-4eca-9281-c49299ba14e8",
   "metadata": {},
   "source": [
    "The function below is use to get the latest prediction sent to API in the case of duplicated predictions."
   ]
  },
  {
   "cell_type": "code",
   "execution_count": 5,
   "id": "d0b582df-9959-4718-ad64-c37bd913d24f",
   "metadata": {},
   "outputs": [
    {
     "name": "stderr",
     "output_type": "stream",
     "text": [
      "/var/folders/ch/kxpr39wx44v97968yr_4hmch0000gn/T/ipykernel_21440/3776051314.py:7: DeprecationWarning: DataFrameGroupBy.apply operated on the grouping columns. This behavior is deprecated, and in a future version of pandas the grouping columns will be excluded from the operation. Either pass `include_groups=False` to exclude the groupings or explicitly select the grouping columns after groupby to silence this warning.\n",
      "  result = df_desc.groupby(['model_id', 'state',  'year']).apply(custom_filter).reset_index(drop=True)\n"
     ]
    },
    {
     "data": {
      "text/html": [
       "<div>\n",
       "<style scoped>\n",
       "    .dataframe tbody tr th:only-of-type {\n",
       "        vertical-align: middle;\n",
       "    }\n",
       "\n",
       "    .dataframe tbody tr th {\n",
       "        vertical-align: top;\n",
       "    }\n",
       "\n",
       "    .dataframe thead th {\n",
       "        text-align: right;\n",
       "    }\n",
       "</style>\n",
       "<table border=\"1\" class=\"dataframe\">\n",
       "  <thead>\n",
       "    <tr style=\"text-align: right;\">\n",
       "      <th></th>\n",
       "      <th>model_id</th>\n",
       "      <th>state</th>\n",
       "      <th>pred_id</th>\n",
       "      <th>year</th>\n",
       "      <th>predict_date</th>\n",
       "      <th>min_date</th>\n",
       "      <th>max_date</th>\n",
       "    </tr>\n",
       "  </thead>\n",
       "  <tbody>\n",
       "    <tr>\n",
       "      <th>0</th>\n",
       "      <td>21</td>\n",
       "      <td>AC</td>\n",
       "      <td>776</td>\n",
       "      <td>2022</td>\n",
       "      <td>2024-09-12</td>\n",
       "      <td>2022-10-09</td>\n",
       "      <td>2023-10-01</td>\n",
       "    </tr>\n",
       "    <tr>\n",
       "      <th>1</th>\n",
       "      <td>21</td>\n",
       "      <td>AC</td>\n",
       "      <td>792</td>\n",
       "      <td>2023</td>\n",
       "      <td>2024-09-12</td>\n",
       "      <td>2023-10-08</td>\n",
       "      <td>2024-09-29</td>\n",
       "    </tr>\n",
       "    <tr>\n",
       "      <th>2</th>\n",
       "      <td>21</td>\n",
       "      <td>AC</td>\n",
       "      <td>808</td>\n",
       "      <td>2024</td>\n",
       "      <td>2024-09-12</td>\n",
       "      <td>2024-10-06</td>\n",
       "      <td>2025-09-28</td>\n",
       "    </tr>\n",
       "    <tr>\n",
       "      <th>3</th>\n",
       "      <td>21</td>\n",
       "      <td>AL</td>\n",
       "      <td>461</td>\n",
       "      <td>2022</td>\n",
       "      <td>2024-09-02</td>\n",
       "      <td>2022-10-09</td>\n",
       "      <td>2023-10-01</td>\n",
       "    </tr>\n",
       "    <tr>\n",
       "      <th>4</th>\n",
       "      <td>21</td>\n",
       "      <td>AL</td>\n",
       "      <td>483</td>\n",
       "      <td>2023</td>\n",
       "      <td>2024-09-02</td>\n",
       "      <td>2023-10-08</td>\n",
       "      <td>2024-09-29</td>\n",
       "    </tr>\n",
       "  </tbody>\n",
       "</table>\n",
       "</div>"
      ],
      "text/plain": [
       "  model_id state pred_id  year predict_date    min_date    max_date\n",
       "0       21    AC     776  2022   2024-09-12  2022-10-09  2023-10-01\n",
       "1       21    AC     792  2023   2024-09-12  2023-10-08  2024-09-29\n",
       "2       21    AC     808  2024   2024-09-12  2024-10-06  2025-09-28\n",
       "3       21    AL     461  2022   2024-09-02  2022-10-09  2023-10-01\n",
       "4       21    AL     483  2023   2024-09-02  2023-10-08  2024-09-29"
      ]
     },
     "execution_count": 5,
     "metadata": {},
     "output_type": "execute_result"
    }
   ],
   "source": [
    "# Define custom function for selecting preds between the duplicated preds\n",
    "def custom_filter(group):\n",
    "    # Replace with custom logic, e.g., keep row with max 'Value'\n",
    "    return group.loc[group.pred_id == group.pred_id.max()]\n",
    "\n",
    "# Apply custom logic to handle duplicates based on 'Category' and 'Subcategory'\n",
    "result = df_desc.groupby(['model_id', 'state',  'year']).apply(custom_filter).reset_index(drop=True)\n",
    "result.head()"
   ]
  },
  {
   "cell_type": "code",
   "execution_count": 6,
   "id": "0a21ffc6-a8ff-4d16-a90d-46a70cd13f79",
   "metadata": {},
   "outputs": [
    {
     "data": {
      "text/plain": [
       "model_id\n",
       "21    81\n",
       "22    81\n",
       "30    81\n",
       "34    81\n",
       "27    79\n",
       "28    74\n",
       "25    13\n",
       "26     2\n",
       "Name: count, dtype: int64"
      ]
     },
     "execution_count": 6,
     "metadata": {},
     "output_type": "execute_result"
    }
   ],
   "source": [
    "result.model_id.value_counts()"
   ]
  },
  {
   "cell_type": "markdown",
   "id": "98f38f46-7208-443b-b380-df8ccde204ce",
   "metadata": {},
   "source": [
    "Since the predictions will be used in the ensemble model, if the model did not send the predictions for 2023, 2024 and 2025 it will be removed.  "
   ]
  },
  {
   "cell_type": "code",
   "execution_count": 7,
   "id": "263cf8b6-192c-4746-b8f4-156be75f7e03",
   "metadata": {},
   "outputs": [],
   "source": [
    "result.loc[result.model_id == '26', 'model_id'] = '25'"
   ]
  },
  {
   "cell_type": "code",
   "execution_count": 10,
   "id": "bb3d7b3a-51e0-4c67-9ef4-36b591e512c1",
   "metadata": {},
   "outputs": [
    {
     "data": {
      "text/html": [
       "<div>\n",
       "<style scoped>\n",
       "    .dataframe tbody tr th:only-of-type {\n",
       "        vertical-align: middle;\n",
       "    }\n",
       "\n",
       "    .dataframe tbody tr th {\n",
       "        vertical-align: top;\n",
       "    }\n",
       "\n",
       "    .dataframe thead th {\n",
       "        text-align: right;\n",
       "    }\n",
       "</style>\n",
       "<table border=\"1\" class=\"dataframe\">\n",
       "  <thead>\n",
       "    <tr style=\"text-align: right;\">\n",
       "      <th></th>\n",
       "      <th>model_id</th>\n",
       "      <th>state</th>\n",
       "      <th>pred_id</th>\n",
       "      <th>year</th>\n",
       "      <th>predict_date</th>\n",
       "      <th>min_date</th>\n",
       "      <th>max_date</th>\n",
       "    </tr>\n",
       "  </thead>\n",
       "  <tbody>\n",
       "    <tr>\n",
       "      <th>0</th>\n",
       "      <td>21</td>\n",
       "      <td>AC</td>\n",
       "      <td>776</td>\n",
       "      <td>2022</td>\n",
       "      <td>2024-09-12</td>\n",
       "      <td>2022-10-09</td>\n",
       "      <td>2023-10-01</td>\n",
       "    </tr>\n",
       "    <tr>\n",
       "      <th>1</th>\n",
       "      <td>21</td>\n",
       "      <td>AC</td>\n",
       "      <td>792</td>\n",
       "      <td>2023</td>\n",
       "      <td>2024-09-12</td>\n",
       "      <td>2023-10-08</td>\n",
       "      <td>2024-09-29</td>\n",
       "    </tr>\n",
       "    <tr>\n",
       "      <th>2</th>\n",
       "      <td>21</td>\n",
       "      <td>AC</td>\n",
       "      <td>808</td>\n",
       "      <td>2024</td>\n",
       "      <td>2024-09-12</td>\n",
       "      <td>2024-10-06</td>\n",
       "      <td>2025-09-28</td>\n",
       "    </tr>\n",
       "    <tr>\n",
       "      <th>3</th>\n",
       "      <td>21</td>\n",
       "      <td>AL</td>\n",
       "      <td>461</td>\n",
       "      <td>2022</td>\n",
       "      <td>2024-09-02</td>\n",
       "      <td>2022-10-09</td>\n",
       "      <td>2023-10-01</td>\n",
       "    </tr>\n",
       "    <tr>\n",
       "      <th>4</th>\n",
       "      <td>21</td>\n",
       "      <td>AL</td>\n",
       "      <td>483</td>\n",
       "      <td>2023</td>\n",
       "      <td>2024-09-02</td>\n",
       "      <td>2023-10-08</td>\n",
       "      <td>2024-09-29</td>\n",
       "    </tr>\n",
       "  </tbody>\n",
       "</table>\n",
       "</div>"
      ],
      "text/plain": [
       "  model_id state pred_id  year predict_date    min_date    max_date\n",
       "0       21    AC     776  2022   2024-09-12  2022-10-09  2023-10-01\n",
       "1       21    AC     792  2023   2024-09-12  2023-10-08  2024-09-29\n",
       "2       21    AC     808  2024   2024-09-12  2024-10-06  2025-09-28\n",
       "3       21    AL     461  2022   2024-09-02  2022-10-09  2023-10-01\n",
       "4       21    AL     483  2023   2024-09-02  2023-10-08  2024-09-29"
      ]
     },
     "execution_count": 10,
     "metadata": {},
     "output_type": "execute_result"
    }
   ],
   "source": [
    "filter_ = pd.DataFrame(result.groupby(['model_id', 'state']).count()['pred_id']).reset_index()\n",
    "\n",
    "filter_ = filter_.loc[filter_.pred_id < 3]\n",
    "\n",
    "# Create list of pairs to exclude\n",
    "exclude_pairs = list(set(zip(filter_.model_id, filter_.state)))\n",
    "\n",
    "#exclude = [('25', 'AM')]\n",
    "#exclude_pairs = [item for item in exclude_pairs if item not in exclude]\n",
    "\n",
    "# Filter out rows where (column1, column2) matches any pair in exclude_pairs\n",
    "filtered_df = result[~result.apply(lambda row: (row['model_id'], row['state']) in exclude_pairs, axis=1)]\n",
    "\n",
    "filtered_df.head()"
   ]
  },
  {
   "cell_type": "code",
   "execution_count": 11,
   "id": "641f0c7d-8b0d-4569-92db-6049cb1e2008",
   "metadata": {},
   "outputs": [
    {
     "data": {
      "text/plain": [
       "model_id\n",
       "21    81\n",
       "22    81\n",
       "30    81\n",
       "34    81\n",
       "27    78\n",
       "28    66\n",
       "25    15\n",
       "Name: count, dtype: int64"
      ]
     },
     "execution_count": 11,
     "metadata": {},
     "output_type": "execute_result"
    }
   ],
   "source": [
    "filtered_df.model_id.value_counts()"
   ]
  },
  {
   "cell_type": "markdown",
   "id": "2459947e-32d8-44ea-bd42-f65b16cb3c5b",
   "metadata": {},
   "source": [
    "Based on the dataframe with the information of the latest predictions the cell below creates a dataframe with will all the predictions and states that will be used to train and appy the ensemble models. The dataframe will contain the columns: ['date', 'pred', 'lower', 'upper', 'adm_1', 'model_id']"
   ]
  },
  {
   "cell_type": "code",
   "execution_count": 12,
   "id": "281a7099-4834-4338-96a8-48cce3ceb8ad",
   "metadata": {},
   "outputs": [],
   "source": [
    "dates_22 = pd.date_range(start= Week(2022, 41).startdate().strftime('%Y-%m-%d'),\n",
    "                              end = Week(2023, 40).startdate().strftime('%Y-%m-%d'), freq = 'W-SUN')\n",
    "\n",
    "dates_23 =  pd.date_range(start= Week(2023, 41).startdate().strftime('%Y-%m-%d'),\n",
    "                              end = Week(2024, 40).startdate().strftime('%Y-%m-%d'), freq = 'W-SUN')\n",
    "\n",
    "\n",
    "dates_24 =  pd.date_range(start= Week(2024, 41).startdate().strftime('%Y-%m-%d'),\n",
    "                              end = Week(2025, 40).startdate().strftime('%Y-%m-%d'), freq = 'W-SUN')"
   ]
  },
  {
   "cell_type": "code",
   "execution_count": 13,
   "id": "2cea66a2-cd2e-4d5b-8fca-2eb4571c6590",
   "metadata": {},
   "outputs": [
    {
     "name": "stdout",
     "output_type": "stream",
     "text": [
      "CPU times: user 10.2 s, sys: 1.22 s, total: 11.4 s\n",
      "Wall time: 9min 20s\n"
     ]
    },
    {
     "data": {
      "text/html": [
       "<div>\n",
       "<style scoped>\n",
       "    .dataframe tbody tr th:only-of-type {\n",
       "        vertical-align: middle;\n",
       "    }\n",
       "\n",
       "    .dataframe tbody tr th {\n",
       "        vertical-align: top;\n",
       "    }\n",
       "\n",
       "    .dataframe thead th {\n",
       "        text-align: right;\n",
       "    }\n",
       "</style>\n",
       "<table border=\"1\" class=\"dataframe\">\n",
       "  <thead>\n",
       "    <tr style=\"text-align: right;\">\n",
       "      <th></th>\n",
       "      <th>date</th>\n",
       "      <th>pred</th>\n",
       "      <th>lower</th>\n",
       "      <th>upper</th>\n",
       "      <th>adm_1</th>\n",
       "      <th>model_id</th>\n",
       "    </tr>\n",
       "  </thead>\n",
       "  <tbody>\n",
       "    <tr>\n",
       "      <th>0</th>\n",
       "      <td>2022-10-09</td>\n",
       "      <td>110.690113</td>\n",
       "      <td>64.291013</td>\n",
       "      <td>219.826948</td>\n",
       "      <td>AC</td>\n",
       "      <td>21</td>\n",
       "    </tr>\n",
       "    <tr>\n",
       "      <th>1</th>\n",
       "      <td>2022-10-16</td>\n",
       "      <td>144.952846</td>\n",
       "      <td>77.564037</td>\n",
       "      <td>279.722708</td>\n",
       "      <td>AC</td>\n",
       "      <td>21</td>\n",
       "    </tr>\n",
       "    <tr>\n",
       "      <th>2</th>\n",
       "      <td>2022-10-23</td>\n",
       "      <td>163.613937</td>\n",
       "      <td>92.915072</td>\n",
       "      <td>276.591399</td>\n",
       "      <td>AC</td>\n",
       "      <td>21</td>\n",
       "    </tr>\n",
       "    <tr>\n",
       "      <th>3</th>\n",
       "      <td>2022-10-30</td>\n",
       "      <td>170.240443</td>\n",
       "      <td>87.197631</td>\n",
       "      <td>378.407811</td>\n",
       "      <td>AC</td>\n",
       "      <td>21</td>\n",
       "    </tr>\n",
       "    <tr>\n",
       "      <th>4</th>\n",
       "      <td>2022-11-06</td>\n",
       "      <td>215.117888</td>\n",
       "      <td>111.835667</td>\n",
       "      <td>445.024983</td>\n",
       "      <td>AC</td>\n",
       "      <td>21</td>\n",
       "    </tr>\n",
       "  </tbody>\n",
       "</table>\n",
       "</div>"
      ],
      "text/plain": [
       "        date        pred       lower       upper adm_1  model_id\n",
       "0 2022-10-09  110.690113   64.291013  219.826948    AC        21\n",
       "1 2022-10-16  144.952846   77.564037  279.722708    AC        21\n",
       "2 2022-10-23  163.613937   92.915072  276.591399    AC        21\n",
       "3 2022-10-30  170.240443   87.197631  378.407811    AC        21\n",
       "4 2022-11-06  215.117888  111.835667  445.024983    AC        21"
      ]
     },
     "execution_count": 13,
     "metadata": {},
     "output_type": "execute_result"
    }
   ],
   "source": [
    "%%time \n",
    "df_preds = pd.DataFrame()\n",
    "\n",
    "for pred_, year in zip(filtered_df.pred_id, filtered_df.year): \n",
    "#for pred_, year in zip([711],['2022']): \n",
    "    preds_ = get_prediction_by_id(id = pred_)\n",
    "    \n",
    "    preds_df = preds_.to_dataframe()\n",
    "    \n",
    "    preds_df.drop(['adm_0', 'adm_2', 'adm_3'], axis = 1, inplace = True)\n",
    "    \n",
    "    preds_df['model_id'] = preds_.model.id\n",
    "\n",
    "    preds_df.date = pd.to_datetime(preds_df.date)\n",
    "    # to handle the teams that send predictions overlaping \n",
    "    if year == '2022':\n",
    "        preds_df = preds_df.loc[preds_df.date.isin(dates_22)]\n",
    "\n",
    "    elif year == '2023':\n",
    "        preds_df = preds_df.loc[preds_df.date.isin(dates_23)]\n",
    "\n",
    "    elif year == '2024':\n",
    "        preds_df = preds_df.loc[preds_df.date.isin(dates_24)]\n",
    "\n",
    "    else: \n",
    "        print('Error')\n",
    "        break \n",
    "        \n",
    "    df_preds = pd.concat([df_preds, preds_df], ignore_index = True)\n",
    "\n",
    "\n",
    "df_preds.head()"
   ]
  },
  {
   "cell_type": "code",
   "execution_count": 14,
   "id": "292ed77d-f821-47b0-bbd4-35df79c09524",
   "metadata": {},
   "outputs": [],
   "source": [
    "df_preds.to_csv('preds_models.csv.gz')"
   ]
  },
  {
   "cell_type": "code",
   "execution_count": null,
   "id": "7c81d7cb-3a12-4bb2-9fca-3ab665ab1894",
   "metadata": {},
   "outputs": [],
   "source": []
  },
  {
   "cell_type": "code",
   "execution_count": null,
   "id": "4b247887-6e04-4a00-9780-c36da87c53f6",
   "metadata": {},
   "outputs": [],
   "source": []
  }
 ],
 "metadata": {
  "kernelspec": {
   "display_name": "Python 3 (ipykernel)",
   "language": "python",
   "name": "python3"
  },
  "language_info": {
   "codemirror_mode": {
    "name": "ipython",
    "version": 3
   },
   "file_extension": ".py",
   "mimetype": "text/x-python",
   "name": "python",
   "nbconvert_exporter": "python",
   "pygments_lexer": "ipython3",
   "version": "3.12.4"
  }
 },
 "nbformat": 4,
 "nbformat_minor": 5
}
